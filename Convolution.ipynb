{
 "cells": [
  {
   "cell_type": "code",
   "execution_count": 15,
   "metadata": {},
   "outputs": [],
   "source": [
    "import numpy as np\n",
    "import pandas as pd\n",
    "import keras\n",
    "import h5py\n",
    "import os\n",
    "import cv2\n",
    "from keras.models import Sequential\n",
    "from keras.layers.normalization import BatchNormalization\n",
    "from keras.layers.pooling import MaxPooling2D\n",
    "from keras.layers import Conv2D,Flatten,Dropout,Activation,Dense"
   ]
  },
  {
   "cell_type": "code",
   "execution_count": 16,
   "metadata": {},
   "outputs": [
    {
     "data": {
      "text/plain": [
       "array([['000621fb3cbb32d8935728e48679680e', 0.00833333333333333,\n",
       "        0.00833333333333333, ..., 0.00833333333333333,\n",
       "        0.00833333333333333, 0.00833333333333333],\n",
       "       ['00102ee9d8eb90812350685311fe5890', 0.00833333333333333,\n",
       "        0.00833333333333333, ..., 0.00833333333333333,\n",
       "        0.00833333333333333, 0.00833333333333333],\n",
       "       ['0012a730dfa437f5f3613fb75efcd4ce', 0.00833333333333333,\n",
       "        0.00833333333333333, ..., 0.00833333333333333,\n",
       "        0.00833333333333333, 0.00833333333333333],\n",
       "       ...,\n",
       "       ['fff74b59b758bbbf13a5793182a9bbe4', 0.00833333333333333,\n",
       "        0.00833333333333333, ..., 0.00833333333333333,\n",
       "        0.00833333333333333, 0.00833333333333333],\n",
       "       ['fff7d50d848e8014ac1e9172dc6762a3', 0.00833333333333333,\n",
       "        0.00833333333333333, ..., 0.00833333333333333,\n",
       "        0.00833333333333333, 0.00833333333333333],\n",
       "       ['fffbff22c1f51e3dc80c4bf04089545b', 0.00833333333333333,\n",
       "        0.00833333333333333, ..., 0.00833333333333333,\n",
       "        0.00833333333333333, 0.00833333333333333]], dtype=object)"
      ]
     },
     "execution_count": 16,
     "metadata": {},
     "output_type": "execute_result"
    }
   ],
   "source": [
    "train_labels=pd.read_csv('labels.csv')\n",
    "labels_submit=pd.read_csv('sample_submission.csv')\n",
    "labels_submit.values"
   ]
  },
  {
   "cell_type": "code",
   "execution_count": 17,
   "metadata": {},
   "outputs": [
    {
     "data": {
      "text/plain": [
       "array([[0, 0, 0, ..., 0, 0, 0],\n",
       "       [0, 0, 0, ..., 0, 0, 0],\n",
       "       [0, 0, 0, ..., 0, 0, 0],\n",
       "       ...,\n",
       "       [0, 0, 0, ..., 0, 0, 0],\n",
       "       [0, 0, 0, ..., 0, 0, 0],\n",
       "       [0, 0, 0, ..., 0, 0, 0]], dtype=uint8)"
      ]
     },
     "execution_count": 17,
     "metadata": {},
     "output_type": "execute_result"
    }
   ],
   "source": [
    "targets_series = pd.Series(train_labels['breed'])\n",
    "one_hot = pd.get_dummies(targets_series, sparse = True)\n",
    "one_hot_labels=np.asarray(one_hot)\n",
    "one_hot_labels"
   ]
  },
  {
   "cell_type": "code",
   "execution_count": 18,
   "metadata": {},
   "outputs": [],
   "source": [
    "im_size = 224\n",
    "\n",
    "\n",
    "x_train = []\n",
    "y_train = []\n",
    "\n",
    "\n",
    "i = 0 \n",
    "for f, breed in train_labels.values:\n",
    "    if(i<1000):\n",
    "        img = cv2.imread('train/{}.jpg'.format(f))\n",
    "        label = one_hot_labels[i]\n",
    "        x_train.append(cv2.resize(img, (im_size, im_size)))\n",
    "        y_train.append(label)\n",
    "        i += 1\n",
    "    \n"
   ]
  },
  {
   "cell_type": "code",
   "execution_count": 19,
   "metadata": {},
   "outputs": [],
   "source": [
    "im_size = 224\n",
    "x_test = []\n",
    "j=0\n",
    "for f in labels_submit['id'].values:\n",
    "    if(j<100):\n",
    "        \n",
    "        img=cv2.imread('test/{}.jpg'.format(f))\n",
    "        x_test.append(cv2.resize(img,(im_size,im_size)))\n",
    "        j=j+1\n"
   ]
  },
  {
   "cell_type": "code",
   "execution_count": 20,
   "metadata": {},
   "outputs": [],
   "source": [
    "x_train_raw=np.asarray(x_train,np.uint8)/255\n",
    "y_train_raw=np.asarray(y_train,np.uint8)\n",
    "x_test_raw=np.asarray(x_test,np.uint8)/255"
   ]
  },
  {
   "cell_type": "code",
   "execution_count": 21,
   "metadata": {},
   "outputs": [
    {
     "data": {
      "text/plain": [
       "(1000, 120)"
      ]
     },
     "execution_count": 21,
     "metadata": {},
     "output_type": "execute_result"
    }
   ],
   "source": [
    "y_train_raw.shape"
   ]
  },
  {
   "cell_type": "code",
   "execution_count": 22,
   "metadata": {},
   "outputs": [
    {
     "name": "stderr",
     "output_type": "stream",
     "text": [
      "/home/anumeha/miniconda3/lib/python3.6/site-packages/ipykernel_launcher.py:3: UserWarning: Update your `Conv2D` call to the Keras 2 API: `Conv2D(32, (3, 3), activation=\"relu\", input_shape=(224, 224,...)`\n",
      "  This is separate from the ipykernel package so we can avoid doing imports until\n",
      "/home/anumeha/miniconda3/lib/python3.6/site-packages/ipykernel_launcher.py:4: UserWarning: Update your `Conv2D` call to the Keras 2 API: `Conv2D(32, (3, 3), activation=\"relu\")`\n",
      "  after removing the cwd from sys.path.\n",
      "/home/anumeha/miniconda3/lib/python3.6/site-packages/keras/models.py:874: UserWarning: The `nb_epoch` argument in `fit` has been renamed `epochs`.\n",
      "  warnings.warn('The `nb_epoch` argument in `fit` '\n"
     ]
    },
    {
     "name": "stdout",
     "output_type": "stream",
     "text": [
      "Epoch 1/1\n",
      "1000/1000 [==============================] - 199s 199ms/step - loss: 6.8834 - acc: 0.0090\n"
     ]
    },
    {
     "data": {
      "text/plain": [
       "<keras.callbacks.History at 0x7f9f0c4b3978>"
      ]
     },
     "execution_count": 22,
     "metadata": {},
     "output_type": "execute_result"
    }
   ],
   "source": [
    "model = Sequential()\n",
    " \n",
    "model.add(Conv2D(32, 3, 3, activation='relu', input_shape=(224,224,3)))\n",
    "model.add(Conv2D(32, 3, 3, activation='relu'))\n",
    "model.add(MaxPooling2D(pool_size=(2,2)))\n",
    "model.add(Dropout(0.25))\n",
    " \n",
    "model.add(Flatten())\n",
    "model.add(Dense(128, activation='relu'))\n",
    "model.add(Dropout(0.5))\n",
    "model.add(Dense(120, activation='softmax'))\n",
    " \n",
    "# 8. Compile model\n",
    "model.compile(loss='categorical_crossentropy',\n",
    "              optimizer='adam',\n",
    "              metrics=['accuracy'])\n",
    " \n",
    "# 9. Fit model on training data\n",
    "model.fit(x_train_raw, y_train_raw, \n",
    "          batch_size=32, nb_epoch=1, verbose=1)\n",
    " "
   ]
  },
  {
   "cell_type": "code",
   "execution_count": 23,
   "metadata": {},
   "outputs": [
    {
     "data": {
      "text/plain": [
       "array([[0.00831394, 0.00840183, 0.00842199, ..., 0.00836029, 0.00835901,\n",
       "        0.00832426],\n",
       "       [0.00831201, 0.00839691, 0.00841955, ..., 0.008362  , 0.00835138,\n",
       "        0.00832869],\n",
       "       [0.00831367, 0.00840059, 0.00842352, ..., 0.00836019, 0.00835882,\n",
       "        0.00832482],\n",
       "       ...,\n",
       "       [0.00831411, 0.00840171, 0.00842193, ..., 0.00836065, 0.00835901,\n",
       "        0.0083241 ],\n",
       "       [0.0083144 , 0.00840057, 0.00842152, ..., 0.00836191, 0.00835785,\n",
       "        0.00832516],\n",
       "       [0.00831388, 0.00840159, 0.00842198, ..., 0.0083604 , 0.00835912,\n",
       "        0.00832418]], dtype=float32)"
      ]
     },
     "execution_count": 23,
     "metadata": {},
     "output_type": "execute_result"
    }
   ],
   "source": [
    "model.predict(x_test_raw, batch_size=None, verbose=0)"
   ]
  },
  {
   "cell_type": "code",
   "execution_count": null,
   "metadata": {},
   "outputs": [],
   "source": []
  },
  {
   "cell_type": "code",
   "execution_count": null,
   "metadata": {},
   "outputs": [],
   "source": []
  },
  {
   "cell_type": "code",
   "execution_count": null,
   "metadata": {},
   "outputs": [],
   "source": []
  }
 ],
 "metadata": {
  "kernelspec": {
   "display_name": "Python 3",
   "language": "python",
   "name": "python3"
  },
  "language_info": {
   "codemirror_mode": {
    "name": "ipython",
    "version": 3
   },
   "file_extension": ".py",
   "mimetype": "text/x-python",
   "name": "python",
   "nbconvert_exporter": "python",
   "pygments_lexer": "ipython3",
   "version": "3.6.2"
  }
 },
 "nbformat": 4,
 "nbformat_minor": 2
}
